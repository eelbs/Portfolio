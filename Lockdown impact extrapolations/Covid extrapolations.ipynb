{
 "cells": [
  {
   "cell_type": "code",
   "execution_count": 1,
   "metadata": {},
   "outputs": [],
   "source": [
    "import matplotlib.pyplot as plt\n",
    "import numpy as np"
   ]
  },
  {
   "cell_type": "code",
   "execution_count": 2,
   "metadata": {},
   "outputs": [],
   "source": [
    "cases = {1:1 , 2:1 , 3:2 , 4:3 , 5:7 , 6:7 , 7:13 , 8:16 , 8:24 , 9:38 , 10:51 , 11:62 , 12:85 , 13:116 , 14:150 , 15:202 , 16:240 , 17:274 , 18: 402 , 19:554 , 20:709 , 21: 927 , 22:1170, 23:1187 ,24:1280 , 25:1326 , 26:1353 , 27:1380 , 28:1462 ,29:1505 , 30:1585 , 31:1655 , 32:1686 , 33:1749 , 34:1845 , 35:1934 , 36:2003 , 37:2028, 38:2172 , 39:2272 , 40:2415 , 41:2506 , 42:2605 , 43:2783 , 44:3034 ,45:3158 ,46:3300 ,47:3465 , 48:3635 ,49:3953 ,50:4220 ,51:4361 ,52:4546 ,53:4793 ,54:4996 ,55:5350 ,56:5647 ,57:5951 ,58:6336 ,59:6783 ,60:7220 ,61:7572}"
   ]
  },
  {
   "cell_type": "code",
   "execution_count": 3,
   "metadata": {
    "scrolled": true
   },
   "outputs": [
    {
     "data": {
      "image/png": "[encoded data removed]",
      "text/plain": [
       "<Figure size 432x288 with 1 Axes>"
      ]
     },
     "metadata": {
      "needs_background": "light"
     },
     "output_type": "display_data"
    }
   ],
   "source": [
    "x = []\n",
    "y = []\n",
    "\n",
    "for i in range(1,len(cases)+1):\n",
    "    x.append(i)\n",
    "    y.append(cases[i])\n",
    "    \n",
    "x1 = []\n",
    "y1 = []\n",
    "for i in range(1,22):\n",
    "    x1.append(i)\n",
    "    y1.append(cases[i])\n",
    "    \n",
    "x2 = []\n",
    "y2 = []\n",
    "for i in range(22,len(cases)+1):\n",
    "    x2.append(i)\n",
    "    y2.append(cases[i])\n",
    "    \n",
    "#Creating the models    \n",
    "    \n",
    "model = np.poly1d(np.polyfit(x1,y1,3))\n",
    "line = np.linspace(1,len(cases),100)\n",
    "\n",
    "lockdwn = np.poly1d(np.polyfit(x2,y2,3))\n",
    "ldline = np.linspace(20,len(cases),100)\n",
    "\n",
    "#Plotting    \n",
    "    \n",
    "plt.scatter(x,y)\n",
    "plt.plot(x,y)\n",
    "plt.plot(line,model(line))\n",
    "plt.plot(ldline,lockdwn(ldline))\n",
    "plt.show()\n",
    "\n",
    "def difference():\n",
    "    return int(model(len(cases)+1) - lockdwn(len(cases)+1))\n",
    "\n",
    "def differenceIn(n):\n",
    "    assert(type(n)==int)\n",
    "    return int(model(len(cases)+n+1) - lockdwn(len(cases)+n+1))"
   ]
  },
  {
   "cell_type": "code",
   "execution_count": 4,
   "metadata": {},
   "outputs": [
    {
     "data": {
      "text/plain": [
       "51733.66528640423"
      ]
     },
     "execution_count": 4,
     "metadata": {},
     "output_type": "execute_result"
    }
   ],
   "source": [
    "#Non lockdown cases tomorow\n",
    "model(len(cases)+1)"
   ]
  },
  {
   "cell_type": "code",
   "execution_count": 6,
   "metadata": {},
   "outputs": [
    {
     "data": {
      "text/plain": [
       "7947"
      ]
     },
     "execution_count": 6,
     "metadata": {},
     "output_type": "execute_result"
    }
   ],
   "source": [
    "#Lockdown cases tommorow\n",
    "int(lockdwn(len(cases)+1))"
   ]
  },
  {
   "cell_type": "code",
   "execution_count": 7,
   "metadata": {},
   "outputs": [
    {
     "data": {
      "text/plain": [
       "43786"
      ]
     },
     "execution_count": 7,
     "metadata": {},
     "output_type": "execute_result"
    }
   ],
   "source": [
    "#Lockdown vs no lockdown cases difference\n",
    "difference()"
   ]
  },
  {
   "cell_type": "code",
   "execution_count": 11,
   "metadata": {},
   "outputs": [
    {
     "data": {
      "text/plain": [
       "16158"
      ]
     },
     "execution_count": 11,
     "metadata": {},
     "output_type": "execute_result"
    }
   ],
   "source": [
    "#cases in 15 days\n",
    "int(lockdwn(len(cases)+15))"
   ]
  },
  {
   "cell_type": "code",
   "execution_count": 12,
   "metadata": {},
   "outputs": [
    {
     "data": {
      "text/plain": [
       "752702"
      ]
     },
     "execution_count": 12,
     "metadata": {},
     "output_type": "execute_result"
    }
   ],
   "source": [
    "#Difference in 90 days\n",
    "differenceIn(90)"
   ]
  },
  {
   "cell_type": "code",
   "execution_count": null,
   "metadata": {},
   "outputs": [],
   "source": []
  }
 ],
 "metadata": {
  "kernelspec": {
   "display_name": "Python 3",
   "language": "python",
   "name": "python3"
  },
  "language_info": {
   "codemirror_mode": {
    "name": "ipython",
    "version": 3
   },
   "file_extension": ".py",
   "mimetype": "text/x-python",
   "name": "python",
   "nbconvert_exporter": "python",
   "pygments_lexer": "ipython3",
   "version": "3.8.3"
  }
 },
 "nbformat": 4,
 "nbformat_minor": 4
}
